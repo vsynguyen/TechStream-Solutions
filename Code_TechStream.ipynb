{
  "nbformat": 4,
  "nbformat_minor": 0,
  "metadata": {
    "colab": {
      "provenance": []
    },
    "kernelspec": {
      "name": "python3",
      "display_name": "Python 3"
    },
    "language_info": {
      "name": "python"
    }
  },
  "cells": [
    {
      "cell_type": "code",
      "execution_count": null,
      "metadata": {
        "id": "fAtxOyixOVjg"
      },
      "outputs": [],
      "source": [
        "import pandas as pd\n",
        "import numpy as np\n"
      ]
    },
    {
      "cell_type": "code",
      "source": [
        "expenses = pd.read_csv('Monthly expenses.csv')\n",
        "payroll = pd.read_csv('Payroll.csv')\n",
        "customer_lifespan = pd.read_csv('customer_lifespan_data.csv')\n",
        "marketing_spendings = pd.read_csv('daily_marketing_spendings.csv')\n",
        "receipts = pd.read_csv('receipts_history.csv')"
      ],
      "metadata": {
        "id": "BAM7Bk3NOnxl"
      },
      "execution_count": null,
      "outputs": []
    },
    {
      "cell_type": "code",
      "source": [
        "## Overview data\n",
        "# expenses.columns\n",
        "# ['month', 'category', 'item', 'amount']\n",
        "# marketing_spendings.columns\n",
        "# ['date', 'channel', 'spending']\n",
        "# payroll.columns\n",
        "# ['month', 'department', 'employee_name', 'position', 'paid']\n",
        "# receipts.columns\n",
        "# ['date', 'customer_id', 'receipt_amount', 'new_customer']\n",
        "# customer_lifespan.columns\n",
        "# ['start_date', 'churn_date']"
      ],
      "metadata": {
        "colab": {
          "base_uri": "https://localhost:8080/"
        },
        "id": "Rde9I43rOnvP",
        "outputId": "1c49b252-36f1-42c4-da0e-84d77352b1cf"
      },
      "execution_count": null,
      "outputs": [
        {
          "output_type": "execute_result",
          "data": {
            "text/plain": [
              "Index(['Unnamed: 0', 'start_date', 'churn_date'], dtype='object')"
            ]
          },
          "metadata": {},
          "execution_count": 37
        }
      ]
    },
    {
      "cell_type": "code",
      "source": [
        "# CAC\n",
        "total_marketing_spendings = marketing_spendings['spending'].sum()\n",
        "total_revenue = receipts['receipt_amount'].sum()\n",
        "\n",
        "total_new_customer = receipts['new_customer'].sum()\n",
        "\n",
        "CAC = (total_marketing_spendings + total_revenue) / total_new_customer\n",
        "print(f'CAC: {CAC:.2f}')"
      ],
      "metadata": {
        "colab": {
          "base_uri": "https://localhost:8080/"
        },
        "id": "a22JIbS3Ons8",
        "outputId": "0a670824-1568-4713-bca1-129c8f5518ea"
      },
      "execution_count": null,
      "outputs": [
        {
          "output_type": "stream",
          "name": "stdout",
          "text": [
            "CAC: 2108.54\n"
          ]
        }
      ]
    },
    {
      "cell_type": "code",
      "source": [
        "# ARPU\n",
        "num_customer = receipts['customer_id'].nunique()\n",
        "ARPU = total_revenue / num_customer\n",
        "print(f'ARPU: {ARPU: .2f}')"
      ],
      "metadata": {
        "colab": {
          "base_uri": "https://localhost:8080/"
        },
        "id": "95KfUe6sOnqj",
        "outputId": "93ecc6a9-949e-4195-f9e3-c059c11ffb64"
      },
      "execution_count": null,
      "outputs": [
        {
          "output_type": "stream",
          "name": "stdout",
          "text": [
            "ARPU:  327.28\n"
          ]
        }
      ]
    },
    {
      "cell_type": "code",
      "source": [
        "# COGS\n",
        "total_expenses = expenses['amount'].sum()\n",
        "COGS = total_revenue - total_expenses\n",
        "print(f'COGS: {COGS: .2f}')"
      ],
      "metadata": {
        "colab": {
          "base_uri": "https://localhost:8080/"
        },
        "id": "n4Pvd8sDOnli",
        "outputId": "38b4ac77-b303-4376-8787-6bf0db2d6239"
      },
      "execution_count": null,
      "outputs": [
        {
          "output_type": "stream",
          "name": "stdout",
          "text": [
            "COGS:  150246.00\n"
          ]
        }
      ]
    },
    {
      "cell_type": "code",
      "source": [
        "# Gross margin\n",
        "Gross_margin = (total_revenue - COGS) / total_revenue\n",
        "print(\"Gross Margin:\", Gross_margin)"
      ],
      "metadata": {
        "colab": {
          "base_uri": "https://localhost:8080/"
        },
        "id": "9MfwUsUaOnjS",
        "outputId": "b407104a-8fd9-4a2c-8be3-44cb6c5c6870"
      },
      "execution_count": null,
      "outputs": [
        {
          "output_type": "stream",
          "name": "stdout",
          "text": [
            "Gross Margin: 0.37710504713813087\n"
          ]
        }
      ]
    },
    {
      "cell_type": "code",
      "source": [
        "# AVG Customer\n",
        "customer_lifespan['start_date'] = pd.to_datetime(customer_lifespan['start_date'])\n",
        "customer_lifespan['churn_date'] = pd.to_datetime(customer_lifespan['churn_date'])\n",
        "customer_lifespan['lifespan_days'] = (customer_lifespan['churn_date'] - customer_lifespan['start_date']).dt.days\n",
        "average_customer_lifespan = customer_lifespan['lifespan_days'].mean()"
      ],
      "metadata": {
        "id": "Y-uyJKmIYDd2"
      },
      "execution_count": null,
      "outputs": []
    },
    {
      "cell_type": "code",
      "source": [
        "# LTV\n",
        "LTV = ARPU * average_customer_lifespan\n",
        "print(f'LTV: {LTV: .2f}')"
      ],
      "metadata": {
        "colab": {
          "base_uri": "https://localhost:8080/"
        },
        "id": "xhfJDB4cYDay",
        "outputId": "749e77b0-0ee0-45ae-8ecf-a0ce8ae5cf76"
      },
      "execution_count": null,
      "outputs": [
        {
          "output_type": "stream",
          "name": "stdout",
          "text": [
            "LTV:  96626.40\n"
          ]
        }
      ]
    },
    {
      "cell_type": "code",
      "source": [
        "# LTV/CAC\n",
        "ltv_cac_ratio = LTV / CAC\n",
        "print(\"LTV/CAC:\", ltv_cac_ratio)"
      ],
      "metadata": {
        "colab": {
          "base_uri": "https://localhost:8080/"
        },
        "id": "juZ1jmg7aKJn",
        "outputId": "b4ea031a-671e-453f-eea2-efba14fedb62"
      },
      "execution_count": null,
      "outputs": [
        {
          "output_type": "stream",
          "name": "stdout",
          "text": [
            "LTV/CAC: 45.826302631038836\n"
          ]
        }
      ]
    },
    {
      "cell_type": "code",
      "source": [
        "print(f'CAC: {CAC:.2f}')\n",
        "print(f'ARPU: {ARPU: .2f}')\n",
        "print(f'COGS: {COGS: .2f}')\n",
        "print(\"Gross Margin:\", Gross_margin)\n",
        "print(f'LTV: {LTV: .2f}')\n",
        "print(\"LTV/CAC:\", ltv_cac_ratio)"
      ],
      "metadata": {
        "colab": {
          "base_uri": "https://localhost:8080/"
        },
        "id": "xPI7JwGCaKG-",
        "outputId": "0fd0203d-a8f0-46c2-c6d8-22a85e8d811b"
      },
      "execution_count": null,
      "outputs": [
        {
          "output_type": "stream",
          "name": "stdout",
          "text": [
            "CAC: 2108.54\n",
            "ARPU:  327.28\n",
            "COGS:  150246.00\n",
            "Gross Margin: 0.37710504713813087\n",
            "LTV:  96626.40\n",
            "LTV/CAC: 45.826302631038836\n"
          ]
        }
      ]
    }
  ]
}